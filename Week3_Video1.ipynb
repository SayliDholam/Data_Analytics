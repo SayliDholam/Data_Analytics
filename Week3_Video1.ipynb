{
 "cells": [
  {
   "cell_type": "code",
   "execution_count": 42,
   "id": "c76af770-8cdf-403b-9724-95e39e1fcef0",
   "metadata": {},
   "outputs": [],
   "source": [
    "import scipy\n",
    "from scipy.stats import binom\n",
    "from scipy.stats import poisson\n",
    "from scipy.stats import uniform\n",
    "from scipy.stats import norm\n",
    "from scipy.stats import hypergeom\n",
    "from scipy.stats import expon\n",
    "import numpy as np"
   ]
  },
  {
   "cell_type": "code",
   "execution_count": null,
   "id": "bef83c0c-c919-47df-b00e-fb9f18567a9f",
   "metadata": {},
   "outputs": [],
   "source": [
    "#binomial distribution"
   ]
  },
  {
   "cell_type": "code",
   "execution_count": 6,
   "id": "167d272e-ebcb-4574-9055-f80a25fd6a9d",
   "metadata": {},
   "outputs": [
    {
     "name": "stdout",
     "output_type": "stream",
     "text": [
      "0.09077799859322798\n"
     ]
    }
   ],
   "source": [
    "print(binom.pmf(k = 19, n = 25, p = 0.65))"
   ]
  },
  {
   "cell_type": "code",
   "execution_count": 5,
   "id": "ea222b73-7449-430d-8f57-1a742165d0bb",
   "metadata": {},
   "outputs": [
    {
     "name": "stdout",
     "output_type": "stream",
     "text": [
      "0.8850275957378548\n"
     ]
    }
   ],
   "source": [
    "print(binom.cdf(2, 20, 0.06))"
   ]
  },
  {
   "cell_type": "code",
   "execution_count": 8,
   "id": "90fbd364-204d-45da-876c-8c147b4297d8",
   "metadata": {},
   "outputs": [
    {
     "name": "stdout",
     "output_type": "stream",
     "text": [
      "0.11714155053639004\n"
     ]
    }
   ],
   "source": [
    "print(binom.pmf(k = 10, n = 20, p = 0.4))"
   ]
  },
  {
   "cell_type": "code",
   "execution_count": null,
   "id": "bc177be7-39d4-4af3-a9fa-bea4d0097eb7",
   "metadata": {},
   "outputs": [],
   "source": []
  },
  {
   "cell_type": "code",
   "execution_count": 11,
   "id": "c32cf41f-b8d7-42d2-88ec-a67555187b59",
   "metadata": {},
   "outputs": [],
   "source": [
    "#poissons (pmf(x,mean))"
   ]
  },
  {
   "cell_type": "code",
   "execution_count": 12,
   "id": "cae3e6bd-48ed-423e-b37d-8e2bfe08e8b2",
   "metadata": {},
   "outputs": [
    {
     "data": {
      "text/plain": [
       "0.18044704431548356"
      ]
     },
     "execution_count": 12,
     "metadata": {},
     "output_type": "execute_result"
    }
   ],
   "source": [
    "poisson.pmf(3,2)"
   ]
  },
  {
   "cell_type": "code",
   "execution_count": 17,
   "id": "da6409e3-e909-4d2f-9251-b90a9a7e0757",
   "metadata": {},
   "outputs": [
    {
     "data": {
      "text/plain": [
       "0.052790043854115495"
      ]
     },
     "execution_count": 17,
     "metadata": {},
     "output_type": "execute_result"
    }
   ],
   "source": [
    "poisson.pmf(10,6.4)"
   ]
  },
  {
   "cell_type": "code",
   "execution_count": 13,
   "id": "590c9b16-11d1-460d-ae99-13495917983c",
   "metadata": {},
   "outputs": [
    {
     "data": {
      "text/plain": [
       "0.11397938346351824"
      ]
     },
     "execution_count": 13,
     "metadata": {},
     "output_type": "execute_result"
    }
   ],
   "source": [
    "poisson.pmf(5,3.2)"
   ]
  },
  {
   "cell_type": "code",
   "execution_count": 15,
   "id": "2d368179-64a8-40f8-bbe5-bcbbb937ab5a",
   "metadata": {},
   "outputs": [],
   "source": [
    "prob = poisson.cdf(7,3.2)\n",
    "prob_more_7 = 1 - prob"
   ]
  },
  {
   "cell_type": "code",
   "execution_count": 16,
   "id": "2c45f0a2-58db-44a2-9c04-513cb6bce68e",
   "metadata": {},
   "outputs": [
    {
     "name": "stdout",
     "output_type": "stream",
     "text": [
      "0.01682984174895752\n"
     ]
    }
   ],
   "source": [
    "print(prob_more_7)"
   ]
  },
  {
   "cell_type": "code",
   "execution_count": null,
   "id": "b180ca25-f700-4ccc-80fd-22b187361e18",
   "metadata": {},
   "outputs": [],
   "source": []
  },
  {
   "cell_type": "code",
   "execution_count": 19,
   "id": "4bd4ab51-7864-489a-bcf6-5130b831310d",
   "metadata": {},
   "outputs": [],
   "source": [
    "#uniform distribution"
   ]
  },
  {
   "cell_type": "code",
   "execution_count": 20,
   "id": "9870176d-85bc-4919-8569-2d11602d8508",
   "metadata": {},
   "outputs": [
    {
     "data": {
      "text/plain": [
       "array([27, 28, 29, 30, 31, 32, 33, 34, 35, 36, 37, 38, 39])"
      ]
     },
     "execution_count": 20,
     "metadata": {},
     "output_type": "execute_result"
    }
   ],
   "source": [
    "u = np.arange(27, 40, 1)\n",
    "u"
   ]
  },
  {
   "cell_type": "code",
   "execution_count": 21,
   "id": "a207cfe5-cea6-400d-8485-f68ee7833825",
   "metadata": {},
   "outputs": [
    {
     "data": {
      "text/plain": [
       "33.0"
      ]
     },
     "execution_count": 21,
     "metadata": {},
     "output_type": "execute_result"
    }
   ],
   "source": [
    "uniform.mean(loc = 27, scale = 12)"
   ]
  },
  {
   "cell_type": "code",
   "execution_count": 23,
   "id": "d9c75f52-ff0a-428a-bd40-92b6c75ad07b",
   "metadata": {},
   "outputs": [
    {
     "data": {
      "text/plain": [
       "array([0.25      , 0.33333333, 0.41666667, 0.5       , 0.58333333,\n",
       "       0.66666667])"
      ]
     },
     "execution_count": 23,
     "metadata": {},
     "output_type": "execute_result"
    }
   ],
   "source": [
    "uniform.cdf(np.arange(30, 36, 1), loc = 27, scale = 12)"
   ]
  },
  {
   "cell_type": "code",
   "execution_count": 24,
   "id": "de9740c0-c80a-4419-8e69-50f261442d47",
   "metadata": {},
   "outputs": [
    {
     "data": {
      "text/plain": [
       "0.41666667"
      ]
     },
     "execution_count": 24,
     "metadata": {},
     "output_type": "execute_result"
    }
   ],
   "source": [
    "prob = 0.66666667 - 0.25\n",
    "prob"
   ]
  },
  {
   "cell_type": "code",
   "execution_count": 25,
   "id": "a0b5c515-3192-482d-ae7c-1be8c7b80cfc",
   "metadata": {},
   "outputs": [
    {
     "data": {
      "text/plain": [
       "691.0"
      ]
     },
     "execution_count": 25,
     "metadata": {},
     "output_type": "execute_result"
    }
   ],
   "source": [
    "uniform.mean(loc = 200, scale = 982)"
   ]
  },
  {
   "cell_type": "code",
   "execution_count": 26,
   "id": "b19d2062-3048-47ec-9f16-6df00154c79c",
   "metadata": {},
   "outputs": [
    {
     "data": {
      "text/plain": [
       "283.4789821721062"
      ]
     },
     "execution_count": 26,
     "metadata": {},
     "output_type": "execute_result"
    }
   ],
   "source": [
    "uniform.std(loc = 200, scale = 982)"
   ]
  },
  {
   "cell_type": "code",
   "execution_count": null,
   "id": "ff5124f3-fbf4-4ce4-a3a0-ec8fd3237435",
   "metadata": {},
   "outputs": [],
   "source": []
  },
  {
   "cell_type": "code",
   "execution_count": 27,
   "id": "b08b625b-fa16-41cb-813d-78bcdb0abc62",
   "metadata": {},
   "outputs": [],
   "source": [
    "#normal distribution"
   ]
  },
  {
   "cell_type": "code",
   "execution_count": 30,
   "id": "21b5535c-17db-49cf-bf10-64e0544fdae0",
   "metadata": {},
   "outputs": [],
   "source": [
    "val, m, s = 68, 65.5, 2.5"
   ]
  },
  {
   "cell_type": "code",
   "execution_count": 31,
   "id": "8f3c9cd7-6acd-4ed0-8f91-02a059138808",
   "metadata": {},
   "outputs": [
    {
     "name": "stdout",
     "output_type": "stream",
     "text": [
      "0.8413447460685429\n"
     ]
    }
   ],
   "source": [
    "print(norm.cdf(val, m, s))"
   ]
  },
  {
   "cell_type": "code",
   "execution_count": 32,
   "id": "69952da1-09b0-447a-90e1-4518dcbb7cad",
   "metadata": {},
   "outputs": [
    {
     "name": "stdout",
     "output_type": "stream",
     "text": [
      "0.6826894921370859\n"
     ]
    }
   ],
   "source": [
    "print(norm.cdf(val, m, s) - norm.cdf(63, m, s))"
   ]
  },
  {
   "cell_type": "code",
   "execution_count": 33,
   "id": "c1a8a30d-4c55-45d6-8f1f-3a3ccf7cf1f1",
   "metadata": {},
   "outputs": [
    {
     "name": "stdout",
     "output_type": "stream",
     "text": [
      "0.9803007295906231\n"
     ]
    }
   ],
   "source": [
    "print(norm.cdf(700, 494, 100))"
   ]
  },
  {
   "cell_type": "code",
   "execution_count": 34,
   "id": "a06ac0dc-0701-4073-96b9-87f8d1c84280",
   "metadata": {},
   "outputs": [
    {
     "name": "stdout",
     "output_type": "stream",
     "text": [
      "1.6448536269514722\n"
     ]
    }
   ],
   "source": [
    "print(norm.ppf(0.95))"
   ]
  },
  {
   "cell_type": "code",
   "execution_count": null,
   "id": "25b77def-90bf-4304-b8a3-8c9757a61c5a",
   "metadata": {},
   "outputs": [],
   "source": []
  },
  {
   "cell_type": "code",
   "execution_count": 35,
   "id": "32ccf801-d825-47aa-b5d9-1dc9db8f9340",
   "metadata": {},
   "outputs": [],
   "source": [
    "#hypergeom.sf(x-1, N, n, A) , sf = 1 - cdf"
   ]
  },
  {
   "cell_type": "code",
   "execution_count": 37,
   "id": "6e65e0eb-3b70-42e0-acc7-c5fff92439cd",
   "metadata": {},
   "outputs": [],
   "source": [
    "value = hypergeom.sf(0, 18, 3, 12)"
   ]
  },
  {
   "cell_type": "code",
   "execution_count": 38,
   "id": "65dea032-5d03-4d4d-aa48-12d87f216080",
   "metadata": {},
   "outputs": [
    {
     "data": {
      "text/plain": [
       "0.9754901960784313"
      ]
     },
     "execution_count": 38,
     "metadata": {},
     "output_type": "execute_result"
    }
   ],
   "source": [
    "value"
   ]
  },
  {
   "cell_type": "code",
   "execution_count": 39,
   "id": "4fb09443-3d2d-4f7f-955a-336ac5d12e10",
   "metadata": {},
   "outputs": [
    {
     "data": {
      "text/plain": [
       "0.04738562091503268"
      ]
     },
     "execution_count": 39,
     "metadata": {},
     "output_type": "execute_result"
    }
   ],
   "source": [
    "value2 = hypergeom.cdf(1, 18, 5, 11)\n",
    "value2"
   ]
  },
  {
   "cell_type": "code",
   "execution_count": 41,
   "id": "d4f5d623-de00-4f15-a86f-717016e89dca",
   "metadata": {},
   "outputs": [
    {
     "data": {
      "text/plain": [
       "0.9526143790849673"
      ]
     },
     "execution_count": 41,
     "metadata": {},
     "output_type": "execute_result"
    }
   ],
   "source": [
    "cdf = 1 - value2\n",
    "cdf"
   ]
  },
  {
   "cell_type": "code",
   "execution_count": null,
   "id": "09896f97-f96b-4800-9680-1c84f84ea5f9",
   "metadata": {},
   "outputs": [],
   "source": []
  },
  {
   "cell_type": "code",
   "execution_count": 43,
   "id": "75ed4027-443f-4e5d-afc0-f2ab59a649fa",
   "metadata": {},
   "outputs": [],
   "source": [
    "#exponential distribution"
   ]
  },
  {
   "cell_type": "code",
   "execution_count": 44,
   "id": "300c52e8-be64-4d78-9f0d-bece0b9d2258",
   "metadata": {},
   "outputs": [
    {
     "data": {
      "text/plain": [
       "0.6447736190750485"
      ]
     },
     "execution_count": 44,
     "metadata": {},
     "output_type": "execute_result"
    }
   ],
   "source": [
    "expon.cdf(0.75, 0, (1/1.38))"
   ]
  },
  {
   "cell_type": "code",
   "execution_count": null,
   "id": "83edb4ad-d163-4f10-b774-ee4f6f058eb3",
   "metadata": {},
   "outputs": [],
   "source": []
  }
 ],
 "metadata": {
  "kernelspec": {
   "display_name": "Python 3 (ipykernel)",
   "language": "python",
   "name": "python3"
  },
  "language_info": {
   "codemirror_mode": {
    "name": "ipython",
    "version": 3
   },
   "file_extension": ".py",
   "mimetype": "text/x-python",
   "name": "python",
   "nbconvert_exporter": "python",
   "pygments_lexer": "ipython3",
   "version": "3.11.5"
  }
 },
 "nbformat": 4,
 "nbformat_minor": 5
}
