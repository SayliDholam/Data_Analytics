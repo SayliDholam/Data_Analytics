{
 "cells": [
  {
   "cell_type": "code",
   "execution_count": 16,
   "id": "2138a357-ba21-43e9-ae0c-8962c542dc89",
   "metadata": {},
   "outputs": [],
   "source": [
    "import pandas as pd\n",
    "import numpy as np\n",
    "import matplotlib.pyplot as plt"
   ]
  },
  {
   "cell_type": "code",
   "execution_count": 25,
   "id": "812b0b71-5592-49b8-bbf8-60664765fa54",
   "metadata": {},
   "outputs": [],
   "source": [
    "data = pd.read_csv('D:/Sayli_etc/NEPTEL_DataAnalysisPython/Week_1/IBM_313_Marks.csv')"
   ]
  },
  {
   "cell_type": "code",
   "execution_count": 26,
   "id": "93193e10-4c57-4ba1-9a37-9a5366756ff1",
   "metadata": {},
   "outputs": [
    {
     "name": "stdout",
     "output_type": "stream",
     "text": [
      "    S.No.  MTE (25)  Mini Project (25)  Total (50)  ETE (50)  Total\n",
      "0     1.0      5.00               20.0       25.00      12.0  37.00\n",
      "1     2.0     11.05               20.0       31.05      26.0  57.05\n",
      "2     3.0      8.10               20.0       28.10      14.0  42.10\n",
      "3     4.0      6.00               10.0       16.00      13.0  29.00\n",
      "4     5.0     11.35               20.0       31.35      17.0  48.35\n",
      "..    ...       ...                ...         ...       ...    ...\n",
      "76   77.0      1.75               10.0       11.75       NaN   0.00\n",
      "77   78.0      3.00               10.0       13.00       NaN   0.00\n",
      "78   79.0      5.80               10.0       15.80      12.0  27.80\n",
      "79    NaN       NaN                NaN         NaN       NaN    NaN\n",
      "80    NaN       NaN                NaN         NaN       NaN    NaN\n",
      "\n",
      "[81 rows x 6 columns]\n"
     ]
    }
   ],
   "source": [
    "print(data)"
   ]
  },
  {
   "cell_type": "code",
   "execution_count": 27,
   "id": "2b1392b2-78c1-4152-9f94-7cbdff8bf199",
   "metadata": {},
   "outputs": [],
   "source": [
    "x = data['Total']"
   ]
  },
  {
   "cell_type": "code",
   "execution_count": 9,
   "id": "f2b0c2a6-ba40-4e4c-806e-46d44980f97b",
   "metadata": {},
   "outputs": [
    {
     "name": "stdout",
     "output_type": "stream",
     "text": [
      "0    37.00\n",
      "1    57.05\n",
      "2    42.10\n",
      "3    29.00\n",
      "4    48.35\n",
      "Name: Total, dtype: float64\n"
     ]
    }
   ],
   "source": [
    "print(x.head())"
   ]
  },
  {
   "cell_type": "code",
   "execution_count": 10,
   "id": "cb00b7f1-e0c6-4258-893a-f46be6793396",
   "metadata": {},
   "outputs": [
    {
     "data": {
      "text/plain": [
       "46.90632911392405"
      ]
     },
     "execution_count": 10,
     "metadata": {},
     "output_type": "execute_result"
    }
   ],
   "source": [
    "np.mean(x)"
   ]
  },
  {
   "cell_type": "code",
   "execution_count": 11,
   "id": "bd926424-5356-40b6-8c89-9a0efb043efe",
   "metadata": {},
   "outputs": [
    {
     "data": {
      "text/plain": [
       "nan"
      ]
     },
     "execution_count": 11,
     "metadata": {},
     "output_type": "execute_result"
    }
   ],
   "source": [
    "np.median(x)"
   ]
  },
  {
   "cell_type": "code",
   "execution_count": 14,
   "id": "b5563a2a-5695-47e6-a4f5-89665067015d",
   "metadata": {},
   "outputs": [],
   "source": [
    "import scipy\n",
    "from scipy import stats"
   ]
  },
  {
   "cell_type": "code",
   "execution_count": 15,
   "id": "6385720e-59ec-4522-96dd-62ab615ad818",
   "metadata": {},
   "outputs": [
    {
     "data": {
      "text/plain": [
       "ModeResult(mode=0.0, count=2)"
      ]
     },
     "execution_count": 15,
     "metadata": {},
     "output_type": "execute_result"
    }
   ],
   "source": [
    "stats.mode(x)"
   ]
  },
  {
   "cell_type": "code",
   "execution_count": 19,
   "id": "a0cc7d1a-4eb7-4491-b4f7-acaf807d9642",
   "metadata": {},
   "outputs": [],
   "source": [
    "data2 = np.array([1,2,3,4,5])"
   ]
  },
  {
   "cell_type": "code",
   "execution_count": 20,
   "id": "7008ce23-38eb-41b3-8050-c38aaade686e",
   "metadata": {},
   "outputs": [],
   "source": [
    "p = np.percentile(data2, 50)"
   ]
  },
  {
   "cell_type": "code",
   "execution_count": 21,
   "id": "3a3a314c-8204-4c00-820b-cc1adbff2f93",
   "metadata": {},
   "outputs": [
    {
     "data": {
      "text/plain": [
       "3.0"
      ]
     },
     "execution_count": 21,
     "metadata": {},
     "output_type": "execute_result"
    }
   ],
   "source": [
    "p"
   ]
  },
  {
   "cell_type": "code",
   "execution_count": 22,
   "id": "399044bc-cbde-4ab4-9447-6376858a297c",
   "metadata": {},
   "outputs": [
    {
     "name": "stdout",
     "output_type": "stream",
     "text": [
      "['Apple', 755, 45.3446]\n"
     ]
    }
   ],
   "source": [
    "data3 = ['Apple', 755, 45.3446]\n",
    "print(data3)"
   ]
  },
  {
   "cell_type": "code",
   "execution_count": 25,
   "id": "249e535c-d108-4f9c-a449-34be8a142859",
   "metadata": {},
   "outputs": [
    {
     "name": "stdout",
     "output_type": "stream",
     "text": [
      "Apple\n",
      "755\n",
      "45.3446\n"
     ]
    }
   ],
   "source": [
    "for i in data3 :\n",
    "    print(i)"
   ]
  },
  {
   "cell_type": "code",
   "execution_count": 26,
   "id": "e768e5f9-5390-4674-99ee-828551df560d",
   "metadata": {},
   "outputs": [
    {
     "name": "stdout",
     "output_type": "stream",
     "text": [
      "10\n",
      "12\n",
      "14\n",
      "16\n",
      "18\n"
     ]
    }
   ],
   "source": [
    "for i in range(10, 20, 2):\n",
    "    print(i)"
   ]
  },
  {
   "cell_type": "code",
   "execution_count": 27,
   "id": "55b5b4ad-1098-4026-a922-8f098b1ae215",
   "metadata": {},
   "outputs": [
    {
     "name": "stdout",
     "output_type": "stream",
     "text": [
      "10, 12, 14, 16, 18, "
     ]
    }
   ],
   "source": [
    "for i in range(10, 20, 2):\n",
    "    print(i, end = ', ')"
   ]
  },
  {
   "cell_type": "code",
   "execution_count": 29,
   "id": "62250d12-817e-485c-9278-c66d5036d912",
   "metadata": {},
   "outputs": [
    {
     "name": "stdout",
     "output_type": "stream",
     "text": [
      "This is a good video lecture\n",
      "I hope to learn\n"
     ]
    }
   ],
   "source": [
    "def say():\n",
    "    print(\"This is a good video lecture\")\n",
    "    print(\"I hope to learn\")\n",
    "say()"
   ]
  },
  {
   "cell_type": "code",
   "execution_count": 30,
   "id": "c0051dd6-8b55-44f4-9e27-3115b40aa7dd",
   "metadata": {},
   "outputs": [
    {
     "name": "stdout",
     "output_type": "stream",
     "text": [
      "43\n"
     ]
    }
   ],
   "source": [
    "def add(a,b):\n",
    "    print(a+b)\n",
    "add(6,37)"
   ]
  },
  {
   "cell_type": "code",
   "execution_count": 9,
   "id": "e9686cff-56ac-4d53-b23a-b86a459407c0",
   "metadata": {},
   "outputs": [],
   "source": [
    "data4 = [12, 74, 95, 2565, 26794, 257, 36, 732, 123]"
   ]
  },
  {
   "cell_type": "code",
   "execution_count": 10,
   "id": "d0f4a1b9-4dd9-4354-8d9c-db268f0fc64e",
   "metadata": {},
   "outputs": [
    {
     "data": {
      "text/plain": [
       "26794"
      ]
     },
     "execution_count": 10,
     "metadata": {},
     "output_type": "execute_result"
    }
   ],
   "source": [
    "max(data4)"
   ]
  },
  {
   "cell_type": "code",
   "execution_count": 11,
   "id": "26a840ee-9f1e-42df-a1f6-3c72b35e94f0",
   "metadata": {},
   "outputs": [
    {
     "data": {
      "text/plain": [
       "12"
      ]
     },
     "execution_count": 11,
     "metadata": {},
     "output_type": "execute_result"
    }
   ],
   "source": [
    "min(data4)"
   ]
  },
  {
   "cell_type": "code",
   "execution_count": 17,
   "id": "ac28c70e-852c-40c6-b493-720786211d03",
   "metadata": {},
   "outputs": [],
   "source": [
    "a = np.array([1,2,3,4,5])"
   ]
  },
  {
   "cell_type": "code",
   "execution_count": 19,
   "id": "4d291f8a-c6cd-48cd-b2a6-0645089baaf2",
   "metadata": {},
   "outputs": [
    {
     "data": {
      "text/plain": [
       "2.0"
      ]
     },
     "execution_count": 19,
     "metadata": {},
     "output_type": "execute_result"
    }
   ],
   "source": [
    "q1 = np.percentile(a, 25)\n",
    "q1"
   ]
  },
  {
   "cell_type": "code",
   "execution_count": 20,
   "id": "e0e1ad20-6c97-435c-9dd1-288c9ed9fc62",
   "metadata": {},
   "outputs": [
    {
     "data": {
      "text/plain": [
       "3.0"
      ]
     },
     "execution_count": 20,
     "metadata": {},
     "output_type": "execute_result"
    }
   ],
   "source": [
    "q2 = np.percentile(a, 50)\n",
    "q2"
   ]
  },
  {
   "cell_type": "code",
   "execution_count": 21,
   "id": "7eb101fb-27bb-49d4-a4c1-3ef8087e39fc",
   "metadata": {},
   "outputs": [
    {
     "data": {
      "text/plain": [
       "4.0"
      ]
     },
     "execution_count": 21,
     "metadata": {},
     "output_type": "execute_result"
    }
   ],
   "source": [
    "q3 = np.percentile(a, 75)\n",
    "q3"
   ]
  },
  {
   "cell_type": "code",
   "execution_count": 23,
   "id": "e5bdeae8-2c24-4011-98fe-ca6e3501ae94",
   "metadata": {},
   "outputs": [
    {
     "data": {
      "text/plain": [
       "2.0"
      ]
     },
     "execution_count": 23,
     "metadata": {},
     "output_type": "execute_result"
    }
   ],
   "source": [
    "iq = q3 - q1\n",
    "iq"
   ]
  },
  {
   "cell_type": "code",
   "execution_count": 28,
   "id": "9bb5de6e-4003-44be-ac88-3c6b2bd1efb5",
   "metadata": {},
   "outputs": [
    {
     "name": "stdout",
     "output_type": "stream",
     "text": [
      "262.7814789296587\n"
     ]
    }
   ],
   "source": [
    "x = data['Total']\n",
    "print(np.var(x))"
   ]
  },
  {
   "cell_type": "code",
   "execution_count": 35,
   "id": "43cee0ae-4f43-42d5-8350-03f624f16428",
   "metadata": {},
   "outputs": [],
   "source": [
    "import statistics "
   ]
  },
  {
   "cell_type": "code",
   "execution_count": 40,
   "id": "bd5053fe-a0c9-4177-86cc-c5679b19ff2c",
   "metadata": {},
   "outputs": [],
   "source": [
    "val = [13,97,43,55, 54 ,756 ,26,8 ,5 ]"
   ]
  },
  {
   "cell_type": "code",
   "execution_count": 41,
   "id": "90217181-5993-49b5-9a6f-67f0c802d84c",
   "metadata": {},
   "outputs": [
    {
     "data": {
      "text/plain": [
       "227.4325839604202"
      ]
     },
     "execution_count": 41,
     "metadata": {},
     "output_type": "execute_result"
    }
   ],
   "source": [
    "statistics.pstdev(val)"
   ]
  },
  {
   "cell_type": "code",
   "execution_count": 42,
   "id": "205f786d-99b0-4476-88cd-787216e6b21b",
   "metadata": {},
   "outputs": [
    {
     "data": {
      "text/plain": [
       "241.2286835717879"
      ]
     },
     "execution_count": 42,
     "metadata": {},
     "output_type": "execute_result"
    }
   ],
   "source": [
    "statistics.stdev(val)"
   ]
  },
  {
   "cell_type": "code",
   "execution_count": 44,
   "id": "31eee27a-c027-455c-9df4-913769536ad4",
   "metadata": {},
   "outputs": [
    {
     "data": {
      "text/plain": [
       "227.4325839604202"
      ]
     },
     "execution_count": 44,
     "metadata": {},
     "output_type": "execute_result"
    }
   ],
   "source": [
    "np.std(val)"
   ]
  },
  {
   "cell_type": "code",
   "execution_count": 45,
   "id": "4b480e90-2fca-4914-b058-c9a5b84de1eb",
   "metadata": {},
   "outputs": [],
   "source": [
    "from scipy.stats import skew"
   ]
  },
  {
   "cell_type": "code",
   "execution_count": 48,
   "id": "732856da-666d-481a-90c1-19006e096828",
   "metadata": {},
   "outputs": [
    {
     "data": {
      "text/plain": [
       "2.4067270771069835"
      ]
     },
     "execution_count": 48,
     "metadata": {},
     "output_type": "execute_result"
    }
   ],
   "source": [
    "skew(val)"
   ]
  },
  {
   "cell_type": "code",
   "execution_count": 51,
   "id": "505bd842-2e3a-4738-93ba-645ec64e04d0",
   "metadata": {},
   "outputs": [
    {
     "data": {
      "image/png": "[encoded data removed]",
      "text/plain": [
       "<Figure size 640x480 with 1 Axes>"
      ]
     },
     "metadata": {},
     "output_type": "display_data"
    }
   ],
   "source": [
    "plt.boxplot(val)\n",
    "plt.show()"
   ]
  },
  {
   "cell_type": "code",
   "execution_count": null,
   "id": "075f2b6e-f364-4de9-ac85-32e7886e794f",
   "metadata": {},
   "outputs": [],
   "source": []
  }
 ],
 "metadata": {
  "kernelspec": {
   "display_name": "Python 3 (ipykernel)",
   "language": "python",
   "name": "python3"
  },
  "language_info": {
   "codemirror_mode": {
    "name": "ipython",
    "version": 3
   },
   "file_extension": ".py",
   "mimetype": "text/x-python",
   "name": "python",
   "nbconvert_exporter": "python",
   "pygments_lexer": "ipython3",
   "version": "3.11.5"
  }
 },
 "nbformat": 4,
 "nbformat_minor": 5
}
