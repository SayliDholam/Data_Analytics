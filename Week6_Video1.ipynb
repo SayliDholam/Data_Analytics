{
 "cells": [
  {
   "cell_type": "code",
   "execution_count": 10,
   "id": "a2310408-788c-4d63-b958-6f305c26de19",
   "metadata": {},
   "outputs": [],
   "source": [
    "import pandas as pd\n",
    "import numpy as np\n",
    "import scipy\n",
    "import statsmodels.api as sm\n",
    "from statsmodels.formula.api import ols"
   ]
  },
  {
   "cell_type": "code",
   "execution_count": 11,
   "id": "0095c3bb-92cf-47c6-b7ea-5bf2860e4cbb",
   "metadata": {},
   "outputs": [
    {
     "name": "stdout",
     "output_type": "stream",
     "text": [
      "   System A  System B  System C\n",
      "0        15        15        18\n",
      "1        14        14        14\n",
      "2        10        11        15\n",
      "3        13        12        17\n",
      "4        16        13        16\n",
      "5        13        13        13\n"
     ]
    }
   ],
   "source": [
    "df = pd.read_excel('D:/Sayli_etc/NEPTEL_DataAnalysisPython/Week_6/RBD.xlsx')\n",
    "print(df)"
   ]
  },
  {
   "cell_type": "code",
   "execution_count": 12,
   "id": "b09be0cf-0cc6-46d9-b417-b2a14c7e265c",
   "metadata": {},
   "outputs": [
    {
     "name": "stdout",
     "output_type": "stream",
     "text": [
      "Index(['System A', 'System B', 'System C'], dtype='object')\n"
     ]
    }
   ],
   "source": [
    "print(df.columns)"
   ]
  },
  {
   "cell_type": "code",
   "execution_count": 21,
   "id": "7d9816ac-f275-43af-a791-37bf8f40522d",
   "metadata": {},
   "outputs": [],
   "source": [
    "data = pd.melt(df.reset_index(), id_vars=['index'], value_vars=['System A', 'System B', 'System C'])\n",
    "data.columns = ['blocks','treatments','value']"
   ]
  },
  {
   "cell_type": "code",
   "execution_count": 23,
   "id": "3216584f-82a9-4b8e-ae80-0047b639168a",
   "metadata": {},
   "outputs": [
    {
     "name": "stdout",
     "output_type": "stream",
     "text": [
      "                 df  sum_sq  mean_sq         F    PR(>F)\n",
      "C(blocks)       5.0    30.0      6.0  3.157895  0.057399\n",
      "C(treatments)   2.0    21.0     10.5  5.526316  0.024181\n",
      "Residual       10.0    19.0      1.9       NaN       NaN\n"
     ]
    }
   ],
   "source": [
    "model = ols('value ~ C(blocks) + C(treatments)', data=data).fit()\n",
    "table = sm.stats.anova_lm(model,type=1)\n",
    "print(table)"
   ]
  },
  {
   "cell_type": "code",
   "execution_count": null,
   "id": "e5cd5b2f-1da9-4db7-a692-b386c322069a",
   "metadata": {},
   "outputs": [],
   "source": []
  },
  {
   "cell_type": "code",
   "execution_count": 24,
   "id": "d1dcff3c-49d4-4654-92c8-3003c6c8ed78",
   "metadata": {},
   "outputs": [
    {
     "name": "stdout",
     "output_type": "stream",
     "text": [
      "   chem1  chem2  chem3  chem4\n",
      "0    1.3    2.2    1.8    3.9\n",
      "1    1.6    2.4    1.7    4.4\n",
      "2    0.5    0.4    0.6    2.0\n",
      "3    1.2    2.0    1.5    4.1\n",
      "4    1.1    1.8    1.3    3.4\n"
     ]
    }
   ],
   "source": [
    "df2 = pd.read_excel('D:/Sayli_etc/NEPTEL_DataAnalysisPython/Week_6/RBD2.xlsx')\n",
    "print(df2)"
   ]
  },
  {
   "cell_type": "code",
   "execution_count": 26,
   "id": "58738daf-6414-451c-b738-3519a4caad60",
   "metadata": {},
   "outputs": [
    {
     "name": "stdout",
     "output_type": "stream",
     "text": [
      "Index(['chem1', 'chem2', 'chem3', 'chem4'], dtype='object')\n"
     ]
    }
   ],
   "source": [
    "print(df2.columns)"
   ]
  },
  {
   "cell_type": "code",
   "execution_count": 33,
   "id": "e9fb5cf0-e4a2-4397-aa25-9cd09ac5edf6",
   "metadata": {},
   "outputs": [
    {
     "data": {
      "text/html": [
       "<div>\n",
       "<style scoped>\n",
       "    .dataframe tbody tr th:only-of-type {\n",
       "        vertical-align: middle;\n",
       "    }\n",
       "\n",
       "    .dataframe tbody tr th {\n",
       "        vertical-align: top;\n",
       "    }\n",
       "\n",
       "    .dataframe thead th {\n",
       "        text-align: right;\n",
       "    }\n",
       "</style>\n",
       "<table border=\"1\" class=\"dataframe\">\n",
       "  <thead>\n",
       "    <tr style=\"text-align: right;\">\n",
       "      <th></th>\n",
       "      <th>fabric_samples</th>\n",
       "      <th>chemical_types</th>\n",
       "      <th>values</th>\n",
       "    </tr>\n",
       "  </thead>\n",
       "  <tbody>\n",
       "    <tr>\n",
       "      <th>0</th>\n",
       "      <td>0</td>\n",
       "      <td>chem1</td>\n",
       "      <td>1.3</td>\n",
       "    </tr>\n",
       "    <tr>\n",
       "      <th>1</th>\n",
       "      <td>1</td>\n",
       "      <td>chem1</td>\n",
       "      <td>1.6</td>\n",
       "    </tr>\n",
       "    <tr>\n",
       "      <th>2</th>\n",
       "      <td>2</td>\n",
       "      <td>chem1</td>\n",
       "      <td>0.5</td>\n",
       "    </tr>\n",
       "    <tr>\n",
       "      <th>3</th>\n",
       "      <td>3</td>\n",
       "      <td>chem1</td>\n",
       "      <td>1.2</td>\n",
       "    </tr>\n",
       "    <tr>\n",
       "      <th>4</th>\n",
       "      <td>4</td>\n",
       "      <td>chem1</td>\n",
       "      <td>1.1</td>\n",
       "    </tr>\n",
       "    <tr>\n",
       "      <th>5</th>\n",
       "      <td>0</td>\n",
       "      <td>chem2</td>\n",
       "      <td>2.2</td>\n",
       "    </tr>\n",
       "    <tr>\n",
       "      <th>6</th>\n",
       "      <td>1</td>\n",
       "      <td>chem2</td>\n",
       "      <td>2.4</td>\n",
       "    </tr>\n",
       "    <tr>\n",
       "      <th>7</th>\n",
       "      <td>2</td>\n",
       "      <td>chem2</td>\n",
       "      <td>0.4</td>\n",
       "    </tr>\n",
       "    <tr>\n",
       "      <th>8</th>\n",
       "      <td>3</td>\n",
       "      <td>chem2</td>\n",
       "      <td>2.0</td>\n",
       "    </tr>\n",
       "    <tr>\n",
       "      <th>9</th>\n",
       "      <td>4</td>\n",
       "      <td>chem2</td>\n",
       "      <td>1.8</td>\n",
       "    </tr>\n",
       "    <tr>\n",
       "      <th>10</th>\n",
       "      <td>0</td>\n",
       "      <td>chem3</td>\n",
       "      <td>1.8</td>\n",
       "    </tr>\n",
       "    <tr>\n",
       "      <th>11</th>\n",
       "      <td>1</td>\n",
       "      <td>chem3</td>\n",
       "      <td>1.7</td>\n",
       "    </tr>\n",
       "    <tr>\n",
       "      <th>12</th>\n",
       "      <td>2</td>\n",
       "      <td>chem3</td>\n",
       "      <td>0.6</td>\n",
       "    </tr>\n",
       "    <tr>\n",
       "      <th>13</th>\n",
       "      <td>3</td>\n",
       "      <td>chem3</td>\n",
       "      <td>1.5</td>\n",
       "    </tr>\n",
       "    <tr>\n",
       "      <th>14</th>\n",
       "      <td>4</td>\n",
       "      <td>chem3</td>\n",
       "      <td>1.3</td>\n",
       "    </tr>\n",
       "    <tr>\n",
       "      <th>15</th>\n",
       "      <td>0</td>\n",
       "      <td>chem4</td>\n",
       "      <td>3.9</td>\n",
       "    </tr>\n",
       "    <tr>\n",
       "      <th>16</th>\n",
       "      <td>1</td>\n",
       "      <td>chem4</td>\n",
       "      <td>4.4</td>\n",
       "    </tr>\n",
       "    <tr>\n",
       "      <th>17</th>\n",
       "      <td>2</td>\n",
       "      <td>chem4</td>\n",
       "      <td>2.0</td>\n",
       "    </tr>\n",
       "    <tr>\n",
       "      <th>18</th>\n",
       "      <td>3</td>\n",
       "      <td>chem4</td>\n",
       "      <td>4.1</td>\n",
       "    </tr>\n",
       "    <tr>\n",
       "      <th>19</th>\n",
       "      <td>4</td>\n",
       "      <td>chem4</td>\n",
       "      <td>3.4</td>\n",
       "    </tr>\n",
       "  </tbody>\n",
       "</table>\n",
       "</div>"
      ],
      "text/plain": [
       "    fabric_samples chemical_types  values\n",
       "0                0          chem1     1.3\n",
       "1                1          chem1     1.6\n",
       "2                2          chem1     0.5\n",
       "3                3          chem1     1.2\n",
       "4                4          chem1     1.1\n",
       "5                0          chem2     2.2\n",
       "6                1          chem2     2.4\n",
       "7                2          chem2     0.4\n",
       "8                3          chem2     2.0\n",
       "9                4          chem2     1.8\n",
       "10               0          chem3     1.8\n",
       "11               1          chem3     1.7\n",
       "12               2          chem3     0.6\n",
       "13               3          chem3     1.5\n",
       "14               4          chem3     1.3\n",
       "15               0          chem4     3.9\n",
       "16               1          chem4     4.4\n",
       "17               2          chem4     2.0\n",
       "18               3          chem4     4.1\n",
       "19               4          chem4     3.4"
      ]
     },
     "execution_count": 33,
     "metadata": {},
     "output_type": "execute_result"
    }
   ],
   "source": [
    "data2 = pd.melt(df2.reset_index(), id_vars=['index'], value_vars=['chem1', 'chem2', 'chem3', 'chem4'])\n",
    "data2.columns = ['fabric_samples','chemical_types','values']\n",
    "data2"
   ]
  },
  {
   "cell_type": "code",
   "execution_count": 35,
   "id": "1e62c351-14c5-4cea-b67d-64d16af435d6",
   "metadata": {},
   "outputs": [
    {
     "name": "stdout",
     "output_type": "stream",
     "text": [
      "                     df  sum_sq   mean_sq          F        PR(>F)\n",
      "C(fabric_samples)   4.0   6.693  1.673250  21.113565  2.318913e-05\n",
      "C(chemical_types)   3.0  18.044  6.014667  75.894848  4.518310e-08\n",
      "Residual           12.0   0.951  0.079250        NaN           NaN\n"
     ]
    }
   ],
   "source": [
    "model2 = ols('values ~ C(fabric_samples) + C(chemical_types)', data=data2).fit()\n",
    "table2 = sm.stats.anova_lm(model2,type=1)\n",
    "print(table2)"
   ]
  },
  {
   "cell_type": "code",
   "execution_count": null,
   "id": "38cc940b-a819-44e1-b6f0-9cc5cbdc6242",
   "metadata": {},
   "outputs": [],
   "source": []
  }
 ],
 "metadata": {
  "kernelspec": {
   "display_name": "Python 3 (ipykernel)",
   "language": "python",
   "name": "python3"
  },
  "language_info": {
   "codemirror_mode": {
    "name": "ipython",
    "version": 3
   },
   "file_extension": ".py",
   "mimetype": "text/x-python",
   "name": "python",
   "nbconvert_exporter": "python",
   "pygments_lexer": "ipython3",
   "version": "3.11.5"
  }
 },
 "nbformat": 4,
 "nbformat_minor": 5
}
