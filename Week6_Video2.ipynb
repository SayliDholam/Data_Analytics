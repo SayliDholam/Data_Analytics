{
 "cells": [
  {
   "cell_type": "code",
   "execution_count": 2,
   "id": "dcbbe542-30d4-472f-ab66-d4420a84aa91",
   "metadata": {},
   "outputs": [],
   "source": [
    "import pandas as pd\n",
    "import numpy as np\n",
    "import scipy\n",
    "import statsmodels.api as sm\n",
    "from statsmodels.formula.api import ols"
   ]
  },
  {
   "cell_type": "code",
   "execution_count": 3,
   "id": "3e6bfaef-66f7-4d56-b5b6-d9f2ba2c7caf",
   "metadata": {},
   "outputs": [
    {
     "name": "stdout",
     "output_type": "stream",
     "text": [
      "    Value  prep_pro         college\n",
      "0     500  three_hr        Business\n",
      "1     580  three_hr        Business\n",
      "2     540  three_hr     Engineering\n",
      "3     460  three_hr     Engineering\n",
      "4     480  three_hr  Artsandscience\n",
      "5     400  three_hr  Artsandscience\n",
      "6     460   One-day        Business\n",
      "7     540   One-day        Business\n",
      "8     560   One-day     Engineering\n",
      "9     620   One-day     Engineering\n",
      "10    420   One-day  Artsandscience\n",
      "11    480   One-day  Artsandscience\n",
      "12    560   10-Week        Business\n",
      "13    600   10-Week        Business\n",
      "14    600   10-Week     Engineering\n",
      "15    580   10-Week     Engineering\n",
      "16    480   10-Week  Artsandscience\n",
      "17    410   10-Week  Artsandscience\n"
     ]
    }
   ],
   "source": [
    "df = pd.read_excel('D:/Sayli_etc/NEPTEL_DataAnalysisPython/Week_6/Twoway.xlsx')\n",
    "print(df)"
   ]
  },
  {
   "cell_type": "code",
   "execution_count": 6,
   "id": "6dbed286-fd30-41b5-a34e-85206190300c",
   "metadata": {},
   "outputs": [
    {
     "data": {
      "text/html": [
       "<div>\n",
       "<style scoped>\n",
       "    .dataframe tbody tr th:only-of-type {\n",
       "        vertical-align: middle;\n",
       "    }\n",
       "\n",
       "    .dataframe tbody tr th {\n",
       "        vertical-align: top;\n",
       "    }\n",
       "\n",
       "    .dataframe thead th {\n",
       "        text-align: right;\n",
       "    }\n",
       "</style>\n",
       "<table border=\"1\" class=\"dataframe\">\n",
       "  <thead>\n",
       "    <tr style=\"text-align: right;\">\n",
       "      <th></th>\n",
       "      <th>df</th>\n",
       "      <th>sum_sq</th>\n",
       "      <th>mean_sq</th>\n",
       "      <th>F</th>\n",
       "      <th>PR(&gt;F)</th>\n",
       "    </tr>\n",
       "  </thead>\n",
       "  <tbody>\n",
       "    <tr>\n",
       "      <th>C(college)</th>\n",
       "      <td>2.0</td>\n",
       "      <td>45300.0</td>\n",
       "      <td>22650.000000</td>\n",
       "      <td>10.269521</td>\n",
       "      <td>0.004757</td>\n",
       "    </tr>\n",
       "    <tr>\n",
       "      <th>C(prep_pro)</th>\n",
       "      <td>2.0</td>\n",
       "      <td>6100.0</td>\n",
       "      <td>3050.000000</td>\n",
       "      <td>1.382872</td>\n",
       "      <td>0.299436</td>\n",
       "    </tr>\n",
       "    <tr>\n",
       "      <th>C(college):C(prep_pro)</th>\n",
       "      <td>4.0</td>\n",
       "      <td>11200.0</td>\n",
       "      <td>2800.000000</td>\n",
       "      <td>1.269521</td>\n",
       "      <td>0.350328</td>\n",
       "    </tr>\n",
       "    <tr>\n",
       "      <th>Residual</th>\n",
       "      <td>9.0</td>\n",
       "      <td>19850.0</td>\n",
       "      <td>2205.555556</td>\n",
       "      <td>NaN</td>\n",
       "      <td>NaN</td>\n",
       "    </tr>\n",
       "  </tbody>\n",
       "</table>\n",
       "</div>"
      ],
      "text/plain": [
       "                         df   sum_sq       mean_sq          F    PR(>F)\n",
       "C(college)              2.0  45300.0  22650.000000  10.269521  0.004757\n",
       "C(prep_pro)             2.0   6100.0   3050.000000   1.382872  0.299436\n",
       "C(college):C(prep_pro)  4.0  11200.0   2800.000000   1.269521  0.350328\n",
       "Residual                9.0  19850.0   2205.555556        NaN       NaN"
      ]
     },
     "execution_count": 6,
     "metadata": {},
     "output_type": "execute_result"
    }
   ],
   "source": [
    "formula = 'Value ~ C(college)+C(prep_pro)+C(college):C(prep_pro)'\n",
    "model = ols(formula, df).fit()\n",
    "table = sm.stats.anova_lm(model, type = 2)\n",
    "table"
   ]
  }
 ],
 "metadata": {
  "kernelspec": {
   "display_name": "Python 3 (ipykernel)",
   "language": "python",
   "name": "python3"
  },
  "language_info": {
   "codemirror_mode": {
    "name": "ipython",
    "version": 3
   },
   "file_extension": ".py",
   "mimetype": "text/x-python",
   "name": "python",
   "nbconvert_exporter": "python",
   "pygments_lexer": "ipython3",
   "version": "3.11.5"
  }
 },
 "nbformat": 4,
 "nbformat_minor": 5
}
