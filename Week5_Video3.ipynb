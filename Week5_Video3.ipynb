{
 "cells": [
  {
   "cell_type": "code",
   "execution_count": 1,
   "id": "957fa982-c32c-443d-a5ff-6b9651190176",
   "metadata": {},
   "outputs": [],
   "source": [
    "#annova"
   ]
  },
  {
   "cell_type": "code",
   "execution_count": 5,
   "id": "280c5e45-45a2-4c11-88f6-1899c4eec3ea",
   "metadata": {},
   "outputs": [],
   "source": [
    "from scipy.stats import f_oneway"
   ]
  },
  {
   "cell_type": "code",
   "execution_count": 7,
   "id": "ce3b5485-b6d3-4aae-844e-e8ec4bdc6438",
   "metadata": {},
   "outputs": [
    {
     "data": {
      "text/plain": [
       "(1.5, 0.2962962962962963)"
      ]
     },
     "execution_count": 7,
     "metadata": {},
     "output_type": "execute_result"
    }
   ],
   "source": [
    "a = [4, 3, 2]\n",
    "b = [2, 4, 6]\n",
    "c = [2, 1, 3]\n",
    "\n",
    "f_statistic, p_value = f_oneway(a, b, c)\n",
    "f_statistic, p_value\n"
   ]
  },
  {
   "cell_type": "code",
   "execution_count": null,
   "id": "2148a18d-79de-43d2-8640-70b1c0897cb7",
   "metadata": {},
   "outputs": [],
   "source": []
  }
 ],
 "metadata": {
  "kernelspec": {
   "display_name": "Python 3 (ipykernel)",
   "language": "python",
   "name": "python3"
  },
  "language_info": {
   "codemirror_mode": {
    "name": "ipython",
    "version": 3
   },
   "file_extension": ".py",
   "mimetype": "text/x-python",
   "name": "python",
   "nbconvert_exporter": "python",
   "pygments_lexer": "ipython3",
   "version": "3.11.5"
  }
 },
 "nbformat": 4,
 "nbformat_minor": 5
}
